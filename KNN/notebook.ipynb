{
 "cells": [
  {
   "cell_type": "code",
   "execution_count": 1,
   "id": "9186d73a",
   "metadata": {},
   "outputs": [],
   "source": [
    "import numpy as np\n",
    "import pandas as pd\n",
    "import matplotlib.pyplot as plt\n",
    "import seaborn as sns"
   ]
  },
  {
   "cell_type": "code",
   "execution_count": 2,
   "id": "35a2ef96",
   "metadata": {},
   "outputs": [],
   "source": [
    "train_df = pd.read_csv('train.csv')\n",
    "processed_df = pd.get_dummies(train_df, columns=[\"Lifestyle Activities\"], drop_first=True)\n",
    "labels = processed_df[\"Recovery Index\"]\n",
    "features = processed_df.drop(\"Recovery Index\", axis=1)\n",
    "features.drop(\"Id\", axis=1, inplace=True)"
   ]
  },
  {
   "cell_type": "code",
   "execution_count": 4,
   "id": "fd39d9ca",
   "metadata": {},
   "outputs": [],
   "source": [
    "from sklearn.neighbors import KNeighborsRegressor\n",
    "from sklearn.model_selection import train_test_split\n",
    "from sklearn.metrics import r2_score, mean_absolute_error, mean_squared_error\n"
   ]
  },
  {
   "cell_type": "code",
   "execution_count": 5,
   "id": "e90585a8",
   "metadata": {},
   "outputs": [],
   "source": [
    "y = processed_df['Recovery Index']\n",
    "X = processed_df.drop('Recovery Index', axis=1)\n"
   ]
  },
  {
   "cell_type": "code",
   "execution_count": 6,
   "id": "69bdab98",
   "metadata": {},
   "outputs": [],
   "source": [
    "X_train, X_test, y_train, y_test = train_test_split(X, y,\n",
    "                                                    test_size=0.2,\n",
    "                                                    random_state=42)"
   ]
  },
  {
   "cell_type": "code",
   "execution_count": 7,
   "id": "84af5ff2",
   "metadata": {},
   "outputs": [],
   "source": [
    "def calc_and_print_metrics(true_values, predictions, model_name):\n",
    "    r2 = r2_score(true_values, predictions)\n",
    "    mae = mean_absolute_error(true_values, predictions)\n",
    "    mse = mean_squared_error(true_values, predictions)\n",
    "    rmse = np.sqrt(mse)\n",
    "    \n",
    "    print(f\"{model_name} Performance Metrics:\")\n",
    "    print(f\"R² Score: {r2:.4f}\")\n",
    "    print(f\"Mean Absolute Error (MAE): {mae:.4f}\")\n",
    "    print(f\"Mean Squared Error (MSE): {mse:.4f}\")\n",
    "    print(f\"Root Mean Squared Error (RMSE): {rmse:.4f}\")\n",
    "    print(\"-\" * 40)"
   ]
  },
  {
   "cell_type": "code",
   "execution_count": 8,
   "id": "a7767a48",
   "metadata": {},
   "outputs": [
    {
     "name": "stdout",
     "output_type": "stream",
     "text": [
      "K-Nearest Neighbors Regressor Performance Metrics:\n",
      "R² Score: 0.6753\n",
      "Mean Absolute Error (MAE): 8.7616\n",
      "Mean Squared Error (MSE): 120.1146\n",
      "Root Mean Squared Error (RMSE): 10.9597\n",
      "----------------------------------------\n"
     ]
    }
   ],
   "source": [
    "knn_model = KNeighborsRegressor(n_neighbors=20)\n",
    "knn_model.fit(X_train, y_train)\n",
    "test_predictions_knn = knn_model.predict(X_test)\n",
    "calc_and_print_metrics(y_test, test_predictions_knn, \"K-Nearest Neighbors Regressor\")"
   ]
  }
 ],
 "metadata": {
  "kernelspec": {
   "display_name": "base",
   "language": "python",
   "name": "python3"
  },
  "language_info": {
   "codemirror_mode": {
    "name": "ipython",
    "version": 3
   },
   "file_extension": ".py",
   "mimetype": "text/x-python",
   "name": "python",
   "nbconvert_exporter": "python",
   "pygments_lexer": "ipython3",
   "version": "3.12.2"
  }
 },
 "nbformat": 4,
 "nbformat_minor": 5
}

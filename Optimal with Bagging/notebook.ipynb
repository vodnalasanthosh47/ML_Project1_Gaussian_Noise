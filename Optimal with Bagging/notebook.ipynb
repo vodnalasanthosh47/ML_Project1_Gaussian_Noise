{
 "cells": [
  {
   "cell_type": "code",
   "execution_count": 12,
   "id": "60f277fa",
   "metadata": {},
   "outputs": [],
   "source": [
    "import numpy as np\n",
    "import pandas as pd\n",
    "from sklearn.linear_model import Ridge, Lasso\n",
    "from sklearn.ensemble import StackingRegressor\n",
    "from sklearn.model_selection import cross_val_predict, KFold\n",
    "from sklearn.preprocessing import StandardScaler\n",
    "from sklearn.pipeline import Pipeline\n",
    "from sklearn.metrics import mean_squared_error\n",
    "from lightgbm import LGBMRegressor"
   ]
  },
  {
   "cell_type": "code",
   "execution_count": 13,
   "id": "95d5f1ec",
   "metadata": {},
   "outputs": [],
   "source": [
    "def rmse(a, b): \n",
    "    return np.sqrt(mean_squared_error(a, b))"
   ]
  },
  {
   "cell_type": "code",
   "execution_count": 14,
   "id": "b1c9a403",
   "metadata": {},
   "outputs": [],
   "source": [
    "def build_reduced_features(df):\n",
    "    eps = 1e-6\n",
    "    X_raw = df.copy()\n",
    "    if 'Id' in X_raw.columns:\n",
    "        X_raw = X_raw.drop(columns=['Id'])\n",
    "    required = ['Therapy Hours', 'Initial Health Score', 'Follow-Up Sessions', 'Average Sleep Hours', 'Lifestyle Activities']\n",
    "    \n",
    "    def safe_float_series(s):\n",
    "        return pd.to_numeric(s, errors='coerce').fillna(0.0).astype(float)\n",
    "    \n",
    "    if X_raw['Lifestyle Activities'].dtype == object:\n",
    "        X_raw['Lifestyle Activities'] = X_raw['Lifestyle Activities'].map({'Yes': 1, 'No': 0})\n",
    "    X_raw['Lifestyle Activities'] = safe_float_series(X_raw['Lifestyle Activities'])\n",
    "    \n",
    "    for c in ['Therapy Hours', 'Initial Health Score', 'Follow-Up Sessions', 'Average Sleep Hours']:\n",
    "        X_raw[c] = safe_float_series(X_raw[c])\n",
    "    \n",
    "    X_eng = pd.DataFrame(index=X_raw.index)\n",
    "    X_eng['Initial Health Score_p1'] = X_raw['Initial Health Score']\n",
    "    X_eng['Therapy Hours_p1'] = X_raw['Therapy Hours']\n",
    "    X_eng['Follow-Up Sessions_p1'] = X_raw['Follow-Up Sessions']\n",
    "    X_eng['Average Sleep Hours_p1'] = X_raw['Average Sleep Hours']\n",
    "    X_eng['Lifestyle Activities_p1'] = X_raw['Lifestyle Activities']\n",
    "    X_eng['Average Sleep Hours_p2'] = X_raw['Average Sleep Hours'] ** 2\n",
    "    X_eng['Average Sleep Hours_p3'] = X_raw['Average Sleep Hours'] ** 3\n",
    "    X_eng['InitialHealthxSleep'] = X_raw['Initial Health Score'] * X_raw['Average Sleep Hours']\n",
    "    X_eng['TherapyxSleep'] = X_raw['Therapy Hours'] * X_raw['Average Sleep Hours']\n",
    "    X_eng['SleepxFollowUp'] = X_raw['Average Sleep Hours'] * X_raw['Follow-Up Sessions']\n",
    "    X_eng['TherapyxHealth'] = X_raw['Therapy Hours'] * X_raw['Initial Health Score']\n",
    "    X_eng['Therapy2xLifestyle'] = (X_raw['Therapy Hours'] ** 2) * X_raw['Lifestyle Activities']\n",
    "    X_eng['TherapyxFollowUp'] = X_raw['Therapy Hours'] * X_raw['Follow-Up Sessions']\n",
    "    X_eng['TherapyxLifestyle'] = X_raw['Therapy Hours'] * X_raw['Lifestyle Activities']\n",
    "    X_eng['LifestylexSleep'] = X_raw['Lifestyle Activities'] * X_raw['Average Sleep Hours']\n",
    "    X_eng['Therapy3xLifestyle'] = (X_raw['Therapy Hours'] ** 3) * X_raw['Lifestyle Activities']\n",
    "    X_eng['HealthxLifestyle'] = X_raw['Initial Health Score'] * X_raw['Lifestyle Activities']\n",
    "    X_eng['FollowUpxSleep'] = X_raw['Follow-Up Sessions'] * X_raw['Average Sleep Hours']\n",
    "    X_eng['Sleep3_over_FollowUp'] = (X_raw['Average Sleep Hours'] ** 3) / (X_raw['Follow-Up Sessions'] + eps)\n",
    "    X_eng['TherapyxLifestyle_sq'] = X_raw['Therapy Hours'] * (X_raw['Lifestyle Activities'] ** 2)\n",
    "    X_eng['Therapy3_over_Health2'] = (X_raw['Therapy Hours'] ** 3) / ((X_raw['Initial Health Score'] ** 2) + eps)\n",
    "    X_eng['LifestylexFollowUp2'] = X_raw['Lifestyle Activities'] * (X_raw['Follow-Up Sessions'] ** 2)\n",
    "    \n",
    "    return X_eng"
   ]
  },
  {
   "cell_type": "code",
   "execution_count": 15,
   "id": "aae05f9a",
   "metadata": {},
   "outputs": [],
   "source": [
    "SEEDS = [0, 11, 22, 33, 44]   # try 5 seeds (extend to 8-10 if you have time)\n",
    "NFOLDS = 5\n",
    "LGB_PARAMS_BASE = dict(n_estimators=1000, learning_rate=0.03, max_depth=4, random_state=42)"
   ]
  },
  {
   "cell_type": "code",
   "execution_count": 16,
   "id": "28399930",
   "metadata": {},
   "outputs": [],
   "source": [
    "train = pd.read_csv(\"train.csv\")\n",
    "test = pd.read_csv(\"test.csv\")\n",
    "ids = test['Id'].values if 'Id' in test.columns else np.arange(len(test))"
   ]
  },
  {
   "cell_type": "code",
   "execution_count": 17,
   "id": "c16feb79",
   "metadata": {},
   "outputs": [],
   "source": [
    "Xtr = build_reduced_features(train)\n",
    "Xte = build_reduced_features(test)"
   ]
  },
  {
   "cell_type": "code",
   "execution_count": 18,
   "id": "6c3d68d9",
   "metadata": {},
   "outputs": [
    {
     "name": "stdout",
     "output_type": "stream",
     "text": [
      "\n",
      "--- Seed 0 (1/5) ---\n"
     ]
    },
    {
     "ename": "TypeError",
     "evalue": "LGBMRegressor.__init__() takes 1 positional argument but 2 were given",
     "output_type": "error",
     "traceback": [
      "\u001b[1;31m---------------------------------------------------------------------------\u001b[0m",
      "\u001b[1;31mTypeError\u001b[0m                                 Traceback (most recent call last)",
      "Cell \u001b[1;32mIn[18], line 20\u001b[0m\n\u001b[0;32m     15\u001b[0m \u001b[38;5;28mprint\u001b[39m(\u001b[38;5;124mf\u001b[39m\u001b[38;5;124m\"\u001b[39m\u001b[38;5;130;01m\\n\u001b[39;00m\u001b[38;5;124m--- Seed \u001b[39m\u001b[38;5;132;01m{\u001b[39;00mseed\u001b[38;5;132;01m}\u001b[39;00m\u001b[38;5;124m (\u001b[39m\u001b[38;5;132;01m{\u001b[39;00mi\u001b[38;5;241m+\u001b[39m\u001b[38;5;241m1\u001b[39m\u001b[38;5;132;01m}\u001b[39;00m\u001b[38;5;124m/\u001b[39m\u001b[38;5;132;01m{\u001b[39;00mn_seeds\u001b[38;5;132;01m}\u001b[39;00m\u001b[38;5;124m) ---\u001b[39m\u001b[38;5;124m\"\u001b[39m)\n\u001b[0;32m     16\u001b[0m \u001b[38;5;66;03m# define base estimators using seed for LGB randomness\u001b[39;00m\n\u001b[0;32m     17\u001b[0m base_estimators \u001b[38;5;241m=\u001b[39m [\n\u001b[0;32m     18\u001b[0m     (\u001b[38;5;124m'\u001b[39m\u001b[38;5;124mridge\u001b[39m\u001b[38;5;124m'\u001b[39m, Pipeline([(\u001b[38;5;124m'\u001b[39m\u001b[38;5;124mscaler\u001b[39m\u001b[38;5;124m'\u001b[39m, StandardScaler()), (\u001b[38;5;124m'\u001b[39m\u001b[38;5;124mridge\u001b[39m\u001b[38;5;124m'\u001b[39m, Ridge(alpha\u001b[38;5;241m=\u001b[39m\u001b[38;5;241m1.0\u001b[39m))])),\n\u001b[0;32m     19\u001b[0m     (\u001b[38;5;124m'\u001b[39m\u001b[38;5;124mlasso\u001b[39m\u001b[38;5;124m'\u001b[39m, Pipeline([(\u001b[38;5;124m'\u001b[39m\u001b[38;5;124mscaler\u001b[39m\u001b[38;5;124m'\u001b[39m, StandardScaler()), (\u001b[38;5;124m'\u001b[39m\u001b[38;5;124mlasso\u001b[39m\u001b[38;5;124m'\u001b[39m, Lasso(alpha\u001b[38;5;241m=\u001b[39m\u001b[38;5;241m0.01\u001b[39m, random_state\u001b[38;5;241m=\u001b[39mseed))])),\n\u001b[1;32m---> 20\u001b[0m     (\u001b[38;5;124m'\u001b[39m\u001b[38;5;124mlgb\u001b[39m\u001b[38;5;124m'\u001b[39m, Pipeline([(\u001b[38;5;124m'\u001b[39m\u001b[38;5;124mscaler\u001b[39m\u001b[38;5;124m'\u001b[39m, StandardScaler()), (\u001b[38;5;124m'\u001b[39m\u001b[38;5;124mlgb\u001b[39m\u001b[38;5;124m'\u001b[39m, LGBMRegressor({\u001b[38;5;241m*\u001b[39m\u001b[38;5;241m*\u001b[39mLGB_PARAMS_BASE, \u001b[38;5;124m'\u001b[39m\u001b[38;5;124mrandom_state\u001b[39m\u001b[38;5;124m'\u001b[39m: seed}))]))\n\u001b[0;32m     21\u001b[0m ]\n\u001b[0;32m     22\u001b[0m meta \u001b[38;5;241m=\u001b[39m Ridge(alpha\u001b[38;5;241m=\u001b[39m\u001b[38;5;241m0.5\u001b[39m)\n\u001b[0;32m     23\u001b[0m stack \u001b[38;5;241m=\u001b[39m StackingRegressor(estimators\u001b[38;5;241m=\u001b[39mbase_estimators, final_estimator\u001b[38;5;241m=\u001b[39mmeta, cv\u001b[38;5;241m=\u001b[39mNFOLDS, passthrough\u001b[38;5;241m=\u001b[39m\u001b[38;5;28;01mTrue\u001b[39;00m, n_jobs\u001b[38;5;241m=\u001b[39m\u001b[38;5;241m1\u001b[39m)\n",
      "\u001b[1;31mTypeError\u001b[0m: LGBMRegressor.__init__() takes 1 positional argument but 2 were given"
     ]
    }
   ],
   "source": [
    "# Clip extremes using train quantile\n",
    "flat_abs = Xtr.replace([np.inf, -np.inf], np.nan).abs().stack().dropna()\n",
    "clip_val = flat_abs.quantile(0.995) if len(flat_abs) else 1e6\n",
    "Xtr = Xtr.replace([np.inf, -np.inf], np.nan).fillna(0.0).clip(-clip_val, clip_val)\n",
    "Xte = Xte.replace([np.inf, -np.inf], np.nan).fillna(0.0).clip(-clip_val, clip_val)\n",
    "\n",
    "y = train['Recovery Index'].values\n",
    "\n",
    "# Storage for bagging\n",
    "oof_agg = np.zeros(len(y))\n",
    "test_agg = np.zeros(len(Xte))\n",
    "n_seeds = len(SEEDS)\n",
    "\n",
    "for i, seed in enumerate(SEEDS):\n",
    "    print(f\"\\n--- Seed {seed} ({i+1}/{n_seeds}) ---\")\n",
    "    # define base estimators using seed for LGB randomness\n",
    "    base_estimators = [\n",
    "        ('ridge', Pipeline([('scaler', StandardScaler()), ('ridge', Ridge(alpha=1.0))])),\n",
    "        ('lasso', Pipeline([('scaler', StandardScaler()), ('lasso', Lasso(alpha=0.01, random_state=seed))])),\n",
    "        ('lgb', Pipeline([('scaler', StandardScaler()), ('lgb', LGBMRegressor({**LGB_PARAMS_BASE, 'random_state': seed}))]))\n",
    "    ]\n",
    "    meta = Ridge(alpha=0.5)\n",
    "    stack = StackingRegressor(estimators=base_estimators, final_estimator=meta, cv=NFOLDS, passthrough=True, n_jobs=1)\n",
    "    # OOF predictions for this seed (use KFold with the seed for consistent folds per seed)\n",
    "    kf = KFold(n_splits=NFOLDS, shuffle=True, random_state=seed)\n",
    "    oof_seed = cross_val_predict(stack, Xtr, y, cv=kf, n_jobs=1)\n",
    "    print(f\"Seed {seed} OOF RMSE: {rmse(y, oof_seed):.6f}\")\n",
    "    oof_agg += oof_seed / n_seeds\n",
    "    # fit on full train and predict test\n",
    "    stack.fit(Xtr, y)\n",
    "    test_pred_seed = stack.predict(Xte)\n",
    "    test_agg += test_pred_seed / n_seeds\n",
    "\n",
    "# Final bagged OOF RMSE\n",
    "print(\"\\nBagged stacking OOF RMSE:\", rmse(y, oof_agg))\n",
    "# Save submission\n",
    "final_preds = np.clip(test_agg, 0, None)\n",
    "submission = pd.DataFrame({\"Id\": ids, \"Recovery Index\": final_preds})\n",
    "submission.to_csv(\"submission_bagged_stack.csv\", index=False)\n",
    "print(\"Saved submission_bagged_stack.csv\")"
   ]
  },
  {
   "cell_type": "code",
   "execution_count": null,
   "id": "70e3f185",
   "metadata": {},
   "outputs": [],
   "source": []
  }
 ],
 "metadata": {
  "kernelspec": {
   "display_name": "base",
   "language": "python",
   "name": "python3"
  },
  "language_info": {
   "codemirror_mode": {
    "name": "ipython",
    "version": 3
   },
   "file_extension": ".py",
   "mimetype": "text/x-python",
   "name": "python",
   "nbconvert_exporter": "python",
   "pygments_lexer": "ipython3",
   "version": "3.12.2"
  }
 },
 "nbformat": 4,
 "nbformat_minor": 5
}
